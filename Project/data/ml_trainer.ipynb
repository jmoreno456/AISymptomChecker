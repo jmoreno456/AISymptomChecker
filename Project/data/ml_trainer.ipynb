{
 "cells": [
  {
   "cell_type": "markdown",
   "id": "3ac6478b",
   "metadata": {},
   "source": [
    "clean and transform dataset\n",
    "data preprocessing\n",
    "combine symptoms into a list per row\n",
    "drop rows with no symptoms"
   ]
  },
  {
   "cell_type": "code",
   "execution_count": null,
   "id": "ff8ff698",
   "metadata": {},
   "outputs": [
    {
     "name": "stdout",
     "output_type": "stream",
     "text": [
      "                                 User_Input_Symptoms           Disease\n",
      "0  [skin_rash, nodal_skin_eruptions, dischromic _...  Fungal infection\n",
      "1  [skin_rash, dischromic _patches, nodal_skin_er...  Fungal infection\n",
      "2  [dischromic _patches, itching, nodal_skin_erup...  Fungal infection\n",
      "3          [skin_rash, itching, dischromic _patches]  Fungal infection\n",
      "4         [skin_rash, nodal_skin_eruptions, itching]  Fungal infection\n",
      "5  [nodal_skin_eruptions, skin_rash, dischromic _...  Fungal infection\n",
      "6  [itching, nodal_skin_eruptions, dischromic _pa...  Fungal infection\n",
      "7          [skin_rash, itching, dischromic _patches]  Fungal infection\n",
      "8         [nodal_skin_eruptions, skin_rash, itching]  Fungal infection\n",
      "9          [itching, skin_rash, dischromic _patches]  Fungal infection\n"
     ]
    }
   ],
   "source": [
    "import pandas as pd\n",
    "import random\n",
    "\n",
    "# Load the dataset\n",
    "df = pd.read_csv('/Users/jessemoreno/PythonProgramming/Project/data/Symptom2Disease.csv'\n",
    ")\n",
    "\n",
    "# Combine all symptom columns into one list per row\n",
    "symptom_cols = [col for col in df.columns if \"Symptom\" in col]\n",
    "df[\"Symptom_List\"] = df[symptom_cols].values.tolist()\n",
    "\n",
    "# Remove empty values and strip whitespaces\n",
    "df[\"Symptom_List\"] = df[\"Symptom_List\"].apply(\n",
    "    lambda x: [str(symptom).strip() for symptom in x if pd.notna(symptom)]\n",
    ")\n",
    "\n",
    "# Filter to rows with at least 3 symptoms\n",
    "df = df[df[\"Symptom_List\"].apply(len) >= 3]\n",
    "\n",
    "# Create a new dataset where we randomly select 3–7 symptoms\n",
    "def generate_partial_symptoms(row):\n",
    "    symptom_list = row[\"Symptom_List\"]\n",
    "    num_symptoms = random.randint(3, min(7, len(symptom_list)))\n",
    "    return random.sample(symptom_list, num_symptoms)\n",
    "\n",
    "df[\"User_Input_Symptoms\"] = df.apply(generate_partial_symptoms, axis=1)\n",
    "\n",
    "# Final cleaned dataset\n",
    "processed_df = df[[\"User_Input_Symptoms\", \"Disease\"]].copy()\n",
    "\n",
    "# Optional: display a few rows\n",
    "print(processed_df.head(10))\n"
   ]
  },
  {
   "cell_type": "markdown",
   "id": "801c223e",
   "metadata": {},
   "source": [
    "convert symptoms to features\n",
    "create a ML friendly format\n",
    "['itching', 'skin rash'] = binary vector [1, 1, 1, 0, 0]\n",
    "use multilabelbinarizer from sklearn"
   ]
  },
  {
   "cell_type": "code",
   "execution_count": 2,
   "id": "dfa24295",
   "metadata": {},
   "outputs": [
    {
     "name": "stdout",
     "output_type": "stream",
     "text": [
      "✅ Accuracy: 0.97\n",
      "\n",
      "📊 Classification Report:\n",
      "                                         precision    recall  f1-score   support\n",
      "\n",
      "(vertigo) Paroymsal  Positional Vertigo       0.95      1.00      0.97        18\n",
      "                                   AIDS       1.00      1.00      1.00        30\n",
      "                                   Acne       1.00      1.00      1.00        24\n",
      "                    Alcoholic hepatitis       1.00      1.00      1.00        25\n",
      "                                Allergy       1.00      1.00      1.00        24\n",
      "                              Arthritis       1.00      1.00      1.00        23\n",
      "                       Bronchial Asthma       1.00      1.00      1.00        33\n",
      "                   Cervical spondylosis       1.00      1.00      1.00        23\n",
      "                            Chicken pox       0.91      1.00      0.95        21\n",
      "                    Chronic cholestasis       0.81      0.87      0.84        15\n",
      "                            Common Cold       1.00      1.00      1.00        23\n",
      "                                 Dengue       0.96      1.00      0.98        26\n",
      "                              Diabetes        1.00      0.95      0.98        21\n",
      "           Dimorphic hemmorhoids(piles)       1.00      1.00      1.00        29\n",
      "                          Drug Reaction       1.00      1.00      1.00        24\n",
      "                       Fungal infection       1.00      1.00      1.00        19\n",
      "                                   GERD       0.97      1.00      0.98        28\n",
      "                        Gastroenteritis       1.00      1.00      1.00        25\n",
      "                           Heart attack       1.00      1.00      1.00        23\n",
      "                            Hepatitis B       0.96      0.89      0.92        27\n",
      "                            Hepatitis C       1.00      0.92      0.96        26\n",
      "                            Hepatitis D       0.78      0.91      0.84        23\n",
      "                            Hepatitis E       1.00      0.86      0.93        29\n",
      "                          Hypertension        1.00      1.00      1.00        25\n",
      "                        Hyperthyroidism       0.96      0.96      0.96        24\n",
      "                           Hypoglycemia       0.96      1.00      0.98        26\n",
      "                         Hypothyroidism       0.95      1.00      0.98        21\n",
      "                               Impetigo       1.00      1.00      1.00        24\n",
      "                               Jaundice       0.90      0.95      0.92        19\n",
      "                                Malaria       0.95      0.86      0.90        22\n",
      "                               Migraine       1.00      0.96      0.98        25\n",
      "                        Osteoarthristis       1.00      1.00      1.00        22\n",
      "           Paralysis (brain hemorrhage)       1.00      1.00      1.00        24\n",
      "                    Peptic ulcer diseae       0.94      1.00      0.97        17\n",
      "                              Pneumonia       0.96      0.96      0.96        28\n",
      "                              Psoriasis       1.00      1.00      1.00        22\n",
      "                           Tuberculosis       0.95      0.84      0.89        25\n",
      "                                Typhoid       0.89      0.89      0.89        19\n",
      "                Urinary tract infection       1.00      1.00      1.00        26\n",
      "                         Varicose veins       1.00      1.00      1.00        22\n",
      "                            hepatitis A       0.91      0.94      0.93        34\n",
      "\n",
      "                               accuracy                           0.97       984\n",
      "                              macro avg       0.97      0.97      0.97       984\n",
      "                           weighted avg       0.97      0.97      0.97       984\n",
      "\n"
     ]
    }
   ],
   "source": [
    "from sklearn.model_selection import train_test_split\n",
    "from sklearn.ensemble import RandomForestClassifier\n",
    "from sklearn.metrics import classification_report, accuracy_score\n",
    "from sklearn.preprocessing import MultiLabelBinarizer\n",
    "\n",
    "# Step 1: Vectorize the symptoms using MultiLabelBinarizer\n",
    "mlb = MultiLabelBinarizer()\n",
    "X = mlb.fit_transform(processed_df[\"User_Input_Symptoms\"])\n",
    "\n",
    "# Step 2: Labels (Diseases)\n",
    "y = processed_df[\"Disease\"]\n",
    "\n",
    "# Step 3: Train/test split\n",
    "X_train, X_test, y_train, y_test = train_test_split(X, y, test_size=0.2, random_state=42)\n",
    "\n",
    "# Step 4: Train the model\n",
    "model = RandomForestClassifier(n_estimators=100, random_state=42)\n",
    "model.fit(X_train, y_train)\n",
    "\n",
    "# Step 5: Make predictions\n",
    "y_pred = model.predict(X_test)\n",
    "\n",
    "# Step 6: Evaluate\n",
    "accuracy = accuracy_score(y_test, y_pred)\n",
    "print(f\"✅ Accuracy: {accuracy:.2f}\\n\")\n",
    "print(\"📊 Classification Report:\")\n",
    "print(classification_report(y_test, y_pred))"
   ]
  }
 ],
 "metadata": {
  "kernelspec": {
   "display_name": "Python 3",
   "language": "python",
   "name": "python3"
  },
  "language_info": {
   "codemirror_mode": {
    "name": "ipython",
    "version": 3
   },
   "file_extension": ".py",
   "mimetype": "text/x-python",
   "name": "python",
   "nbconvert_exporter": "python",
   "pygments_lexer": "ipython3",
   "version": "3.10.0"
  }
 },
 "nbformat": 4,
 "nbformat_minor": 5
}
